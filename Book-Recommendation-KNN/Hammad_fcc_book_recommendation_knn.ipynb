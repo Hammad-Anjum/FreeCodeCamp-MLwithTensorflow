{
  "cells": [
    {
      "cell_type": "code",
      "execution_count": null,
      "metadata": {
        "id": "Y1onB6kUvo4Z"
      },
      "outputs": [],
      "source": [
        "# import libraries (you may add additional imports but you may not have to)\n",
        "import numpy as np\n",
        "import pandas as pd\n",
        "from scipy.sparse import csr_matrix\n",
        "from sklearn.neighbors import NearestNeighbors\n",
        "import matplotlib.pyplot as plt"
      ]
    },
    {
      "cell_type": "code",
      "execution_count": null,
      "metadata": {
        "id": "iAQGqqO_vo4d",
        "outputId": "b6ad4589-0b90-4064-dd05-c5f1b85b9481",
        "colab": {
          "base_uri": "https://localhost:8080/"
        }
      },
      "outputs": [
        {
          "output_type": "stream",
          "name": "stdout",
          "text": [
            "--2024-02-13 19:53:02--  https://cdn.freecodecamp.org/project-data/books/book-crossings.zip\n",
            "Resolving cdn.freecodecamp.org (cdn.freecodecamp.org)... 104.26.2.33, 172.67.70.149, 104.26.3.33, ...\n",
            "Connecting to cdn.freecodecamp.org (cdn.freecodecamp.org)|104.26.2.33|:443... connected.\n",
            "HTTP request sent, awaiting response... 200 OK\n",
            "Length: 26085508 (25M) [application/zip]\n",
            "Saving to: ‘book-crossings.zip.1’\n",
            "\n",
            "book-crossings.zip. 100%[===================>]  24.88M  54.9MB/s    in 0.5s    \n",
            "\n",
            "2024-02-13 19:53:03 (54.9 MB/s) - ‘book-crossings.zip.1’ saved [26085508/26085508]\n",
            "\n",
            "Archive:  book-crossings.zip\n",
            "replace BX-Book-Ratings.csv? [y]es, [n]o, [A]ll, [N]one, [r]ename: All\n",
            "  inflating: BX-Book-Ratings.csv     \n",
            "  inflating: BX-Books.csv            \n",
            "  inflating: BX-Users.csv            \n"
          ]
        }
      ],
      "source": [
        "# get data files\n",
        "!wget https://cdn.freecodecamp.org/project-data/books/book-crossings.zip\n",
        "\n",
        "!unzip book-crossings.zip\n",
        "\n",
        "books_filename = 'BX-Books.csv'\n",
        "ratings_filename = 'BX-Book-Ratings.csv'"
      ]
    },
    {
      "cell_type": "code",
      "execution_count": null,
      "metadata": {
        "id": "NClILWOiEd6Q"
      },
      "outputs": [],
      "source": [
        "# import csv data into dataframes\n",
        "df_books = pd.read_csv(\n",
        "    books_filename,\n",
        "    encoding = \"ISO-8859-1\",\n",
        "    sep=\";\",\n",
        "    header=0,\n",
        "    names=['isbn', 'title', 'author'],\n",
        "    usecols=['isbn', 'title', 'author'],\n",
        "    dtype={'isbn': 'str', 'title': 'str', 'author': 'str'})\n",
        "\n",
        "df_ratings = pd.read_csv(\n",
        "    ratings_filename,\n",
        "    encoding = \"ISO-8859-1\",\n",
        "    sep=\";\",\n",
        "    header=0,\n",
        "    names=['user', 'isbn', 'rating'],\n",
        "    usecols=['user', 'isbn', 'rating'],\n",
        "    dtype={'user': 'int32', 'isbn': 'str', 'rating': 'float32'})"
      ]
    },
    {
      "cell_type": "code",
      "execution_count": null,
      "metadata": {
        "id": "xAcXjkCFCh0A",
        "outputId": "c6625f2f-4307-49f3-c9a5-d16f1e3883ba",
        "colab": {
          "base_uri": "https://localhost:8080/"
        }
      },
      "outputs": [
        {
          "output_type": "stream",
          "name": "stdout",
          "text": [
            "         isbn                                              title  \\\n",
            "0  0195153448                                Classical Mythology   \n",
            "1  0002005018                                       Clara Callan   \n",
            "2  0060973129                               Decision in Normandy   \n",
            "3  0374157065  Flu: The Story of the Great Influenza Pandemic...   \n",
            "4  0393045218                             The Mummies of Urumchi   \n",
            "\n",
            "                 author  \n",
            "0    Mark P. O. Morford  \n",
            "1  Richard Bruce Wright  \n",
            "2          Carlo D'Este  \n",
            "3      Gina Bari Kolata  \n",
            "4       E. J. W. Barber  \n",
            "(271379, 3)\n",
            "isbn      0\n",
            "title     0\n",
            "author    1\n",
            "dtype: int64\n"
          ]
        }
      ],
      "source": [
        "#information about df_books\n",
        "print(df_books.head())\n",
        "print(df_books.shape)\n",
        "print(df_books.isna().sum())\n",
        "\n"
      ]
    },
    {
      "cell_type": "code",
      "source": [
        "print(df_ratings.head())\n",
        "print(df_ratings.shape)\n",
        "print(df_ratings['rating'].unique())\n",
        "\n",
        "print(df_ratings.isna().sum())"
      ],
      "metadata": {
        "id": "l41lmmNZr7-G",
        "outputId": "14d21599-0370-428e-ed20-8ffb5cedd73b",
        "colab": {
          "base_uri": "https://localhost:8080/"
        }
      },
      "execution_count": null,
      "outputs": [
        {
          "output_type": "stream",
          "name": "stdout",
          "text": [
            "     user        isbn  rating\n",
            "0  276725  034545104X     0.0\n",
            "1  276726  0155061224     5.0\n",
            "2  276727  0446520802     0.0\n",
            "3  276729  052165615X     3.0\n",
            "4  276729  0521795028     6.0\n",
            "(1149780, 3)\n",
            "[ 0.  5.  3.  6.  8.  7. 10.  9.  4.  1.  2.]\n",
            "user      0\n",
            "isbn      0\n",
            "rating    0\n",
            "dtype: int64\n"
          ]
        }
      ]
    },
    {
      "cell_type": "code",
      "source": [
        "#since there is only one book with a missing author , delete that row\n",
        "df_books.dropna(inplace = True)\n",
        "\n",
        "print(df_books.isna().sum())\n",
        "\n",
        "df = pd.merge(df_books , df_ratings , how = 'left' , left_on= 'isbn' , right_on = 'isbn')\n",
        "\n",
        "print(df)\n",
        "print(df.isna().sum())"
      ],
      "metadata": {
        "id": "teC5sBDvvUaP",
        "outputId": "6066688a-a9f7-4c8d-ed9a-1f570f333e8d",
        "colab": {
          "base_uri": "https://localhost:8080/"
        }
      },
      "execution_count": null,
      "outputs": [
        {
          "output_type": "stream",
          "name": "stdout",
          "text": [
            "isbn      0\n",
            "title     0\n",
            "author    0\n",
            "dtype: int64\n",
            "               isbn                                              title  \\\n",
            "0        0195153448                                Classical Mythology   \n",
            "1        0002005018                                       Clara Callan   \n",
            "2        0002005018                                       Clara Callan   \n",
            "3        0002005018                                       Clara Callan   \n",
            "4        0002005018                                       Clara Callan   \n",
            "...             ...                                                ...   \n",
            "1032378  0440400988                         There's a Bat in Bunk Five   \n",
            "1032379  0525447644                            From One to One Hundred   \n",
            "1032380  006008667X  Lily Dale : The True Story of the Town that Ta...   \n",
            "1032381  0192126040                        Republic (World's Classics)   \n",
            "1032382  0767409752  A Guided Tour of Rene Descartes' Meditations o...   \n",
            "\n",
            "                       author      user  rating  \n",
            "0          Mark P. O. Morford       2.0     0.0  \n",
            "1        Richard Bruce Wright       8.0     5.0  \n",
            "2        Richard Bruce Wright   11400.0     0.0  \n",
            "3        Richard Bruce Wright   11676.0     8.0  \n",
            "4        Richard Bruce Wright   41385.0     0.0  \n",
            "...                       ...       ...     ...  \n",
            "1032378        Paula Danziger  276463.0     7.0  \n",
            "1032379            Teri Sloat  276579.0     4.0  \n",
            "1032380      Christine Wicker  276680.0     0.0  \n",
            "1032381                 Plato  276680.0     0.0  \n",
            "1032382   Christopher  Biffle  276680.0     0.0  \n",
            "\n",
            "[1032383 rows x 5 columns]\n",
            "isbn         0\n",
            "title        0\n",
            "author       0\n",
            "user      1209\n",
            "rating    1209\n",
            "dtype: int64\n"
          ]
        }
      ]
    },
    {
      "cell_type": "code",
      "source": [
        "#removing users with <200 ratings and books with <100 ratings\n",
        "df = df_ratings\n",
        "\n",
        "counts1 = df['user'].value_counts()\n",
        "counts2 = df['isbn'].value_counts()\n",
        "\n",
        "df = df[~df['user'].isin(counts1[counts1 < 200].index)]\n",
        "df = df[~df['isbn'].isin(counts2[counts2 < 100].index)]\n",
        "\n",
        "df = pd.merge(right=df, left = df_books, on=\"isbn\")\n",
        "\n",
        "df = df.drop_duplicates([\"title\", \"user\"])"
      ],
      "metadata": {
        "id": "Lq0jnpGnzemO"
      },
      "execution_count": null,
      "outputs": []
    },
    {
      "cell_type": "code",
      "source": [
        "#building pivot table\n",
        "pivot = df.pivot_table(index = \"title\", columns = \"user\", values = \"rating\")\n",
        "pivot.fillna(0, inplace=True)"
      ],
      "metadata": {
        "id": "VoP8Uc9g1-Vv"
      },
      "execution_count": null,
      "outputs": []
    },
    {
      "cell_type": "code",
      "source": [
        "#generating model\n",
        "model = NearestNeighbors( algorithm = 'brute' ,metric = 'cosine').fit(pivot.values)"
      ],
      "metadata": {
        "id": "LXhnR6KU7N3B"
      },
      "execution_count": null,
      "outputs": []
    },
    {
      "cell_type": "code",
      "execution_count": null,
      "metadata": {
        "id": "f5ZUd-L1SQz7"
      },
      "outputs": [],
      "source": [
        "# function to return recommended books - this will be tested\n",
        "def get_recommends(book = \"\"):\n",
        "  x=pivot.loc[book].array.reshape(1, -1)\n",
        "  distances,indices=model.kneighbors(x,n_neighbors=6)\n",
        "  R_books=[]\n",
        "  for distance,indice in zip(distances[0],indices[0]):\n",
        "    if distance!=0:\n",
        "      R_book=pivot.index[indice]\n",
        "      R_books.append([R_book,distance])\n",
        "  recommended_books=[book,R_books[::-1]]\n",
        "\n",
        "  return recommended_books"
      ]
    },
    {
      "cell_type": "code",
      "execution_count": null,
      "metadata": {
        "id": "jd2SLCh8oxMh",
        "outputId": "e4569af5-8014-46b2-ec25-7d54ca66b5c9",
        "colab": {
          "base_uri": "https://localhost:8080/"
        }
      },
      "outputs": [
        {
          "output_type": "stream",
          "name": "stdout",
          "text": [
            "[\"Where the Heart Is (Oprah's Book Club (Paperback))\", [[\"I'll Be Seeing You\", 0.8016211], ['The Weight of Water', 0.77085835], ['The Surgeon', 0.7699411], ['I Know This Much Is True', 0.7677075], ['The Lovely Bones: A Novel', 0.7234864]]]\n",
            "You passed the challenge! 🎉🎉🎉🎉🎉\n"
          ]
        }
      ],
      "source": [
        "books = get_recommends(\"Where the Heart Is (Oprah's Book Club (Paperback))\")\n",
        "print(books)\n",
        "\n",
        "def test_book_recommendation():\n",
        "  test_pass = True\n",
        "  recommends = get_recommends(\"Where the Heart Is (Oprah's Book Club (Paperback))\")\n",
        "  if recommends[0] != \"Where the Heart Is (Oprah's Book Club (Paperback))\":\n",
        "    test_pass = False\n",
        "  recommended_books = [\"I'll Be Seeing You\", 'The Weight of Water', 'The Surgeon', 'I Know This Much Is True']\n",
        "  recommended_books_dist = [0.8, 0.77, 0.77, 0.77]\n",
        "  for i in range(2):\n",
        "    if recommends[1][i][0] not in recommended_books:\n",
        "      test_pass = False\n",
        "    if abs(recommends[1][i][1] - recommended_books_dist[i]) >= 0.05:\n",
        "      test_pass = False\n",
        "  if test_pass:\n",
        "    print(\"You passed the challenge! 🎉🎉🎉🎉🎉\")\n",
        "  else:\n",
        "    print(\"You haven't passed yet. Keep trying!\")\n",
        "\n",
        "test_book_recommendation()"
      ]
    }
  ],
  "metadata": {
    "colab": {
      "provenance": []
    },
    "kernelspec": {
      "display_name": "Python 3",
      "language": "python",
      "name": "python3"
    },
    "language_info": {
      "codemirror_mode": {
        "name": "ipython",
        "version": 3
      },
      "file_extension": ".py",
      "mimetype": "text/x-python",
      "name": "python",
      "nbconvert_exporter": "python",
      "pygments_lexer": "ipython3",
      "version": "3.6.5"
    }
  },
  "nbformat": 4,
  "nbformat_minor": 0
}